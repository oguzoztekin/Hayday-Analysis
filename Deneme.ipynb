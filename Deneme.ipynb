{
 "cells": [
  {
   "cell_type": "code",
   "execution_count": null,
   "metadata": {},
   "outputs": [
    {
     "name": "stdout",
     "output_type": "stream",
     "text": [
      "Index(['Name', 'Level', 'Max. price', 'Time', 'XP', 'Needs', 'Source',\n",
      "       'Per boat crate'],\n",
      "      dtype='object')\n",
      "           Name Level  Max. price             Time XP               Needs  \\\n",
      "0         Wheat     1           3            2 min  1           Wheat (1)   \n",
      "1           Egg     1          18           20 min  2    Chicken feed (1)   \n",
      "2          Corn     2           7            5 min  1            Corn (1)   \n",
      "3         Bread     2          21  5 min ★★★ 4 min  3           Wheat (3)   \n",
      "4  Chicken feed     3           7  5 min ★★★ 4 min  1  Corn (1) Wheat (2)   \n",
      "\n",
      "                         Source Per boat crate  \n",
      "0              Field (1st crop)         50-101  \n",
      "1  Chicken (1st animal product)          15-24  \n",
      "2              Field (2nd crop)          50-87  \n",
      "3                        Bakery          14-26  \n",
      "4                     Feed Mill            NaN  \n"
     ]
    },
    {
     "name": "stderr",
     "output_type": "stream",
     "text": [
      "/var/folders/97/ch83kwyd58z8krz3tltkbxkm0000gn/T/ipykernel_12171/2790075950.py:16: FutureWarning: Passing literal html to 'read_html' is deprecated and will be removed in a future version. To read from a literal string, wrap it in a 'StringIO' object.\n",
      "  df = pd.read_html(html, flavor=\"lxml\")[0]\n"
     ]
    }
   ],
   "source": [
    "import requests\n",
    "import pandas as pd\n",
    "\n",
    "url = \"https://hayday.fandom.com/wiki/Goods_List\"\n",
    "headers = {\n",
    "    \"User-Agent\": (\n",
    "        \"Mozilla/5.0 (Windows NT 10.0; Win64; x64) \"\n",
    "        \"AppleWebKit/537.36 (KHTML, like Gecko) \"\n",
    "        \"Chrome/124.0 Safari/537.36\"\n",
    "    )\n",
    "}\n",
    "html = requests.get(url, headers=headers, timeout=30).text  \n",
    "\n",
    "df = pd.read_html(html, flavor=\"lxml\")[0]   \n",
    "\n",
    "print(df.columns)\n",
    "print(df.head())"
   ]
  },
  {
   "cell_type": "code",
   "execution_count": 3,
   "metadata": {},
   "outputs": [
    {
     "data": {
      "text/plain": [
       "Name              object\n",
       "Level             object\n",
       "Max. price         int64\n",
       "Time              object\n",
       "XP                object\n",
       "Needs             object\n",
       "Source            object\n",
       "Per boat crate    object\n",
       "dtype: object"
      ]
     },
     "execution_count": 3,
     "metadata": {},
     "output_type": "execute_result"
    }
   ],
   "source": [
    "df.dtypes\n"
   ]
  },
  {
   "cell_type": "code",
   "execution_count": 4,
   "metadata": {},
   "outputs": [
    {
     "data": {
      "text/plain": [
       "Name                           Wheat bundle\n",
       "Level                           34 (Rep. 3)\n",
       "Max. price                               50\n",
       "Time              1 h 30 min ★★★ 1 h 16 min\n",
       "XP                                       10\n",
       "Needs                            Wheat (75)\n",
       "Source                            Feed Mill\n",
       "Per boat crate                          NaN\n",
       "Name: 89, dtype: object"
      ]
     },
     "execution_count": 4,
     "metadata": {},
     "output_type": "execute_result"
    }
   ],
   "source": [
    "df.loc[89]\n"
   ]
  },
  {
   "cell_type": "code",
   "execution_count": null,
   "metadata": {},
   "outputs": [],
   "source": []
  },
  {
   "cell_type": "code",
   "execution_count": null,
   "metadata": {},
   "outputs": [],
   "source": []
  },
  {
   "cell_type": "code",
   "execution_count": null,
   "metadata": {},
   "outputs": [],
   "source": []
  },
  {
   "cell_type": "code",
   "execution_count": null,
   "metadata": {},
   "outputs": [],
   "source": []
  },
  {
   "cell_type": "code",
   "execution_count": null,
   "metadata": {},
   "outputs": [],
   "source": [
    "# what are the data types\n",
    "df.dtypes\n",
    "\n",
    "# see the level is object, not int\n",
    "     "
   ]
  }
 ],
 "metadata": {
  "kernelspec": {
   "display_name": "Python 3",
   "language": "python",
   "name": "python3"
  },
  "language_info": {
   "codemirror_mode": {
    "name": "ipython",
    "version": 3
   },
   "file_extension": ".py",
   "mimetype": "text/x-python",
   "name": "python",
   "nbconvert_exporter": "python",
   "pygments_lexer": "ipython3",
   "version": "3.11.8"
  }
 },
 "nbformat": 4,
 "nbformat_minor": 2
}
